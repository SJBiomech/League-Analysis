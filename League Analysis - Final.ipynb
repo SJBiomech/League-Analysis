{
 "cells": [
  {
   "cell_type": "markdown",
   "metadata": {},
   "source": [
    "# <u>Dorset & Wilts 2 North</u>\n",
    "\n",
    "**Sam Jones - @SJBiomech**\n",
    "\n",
    "In this notebook I will be looking at the Dorset & Wilts 2 North league table from the past years. I will aim to briefly investigate the data and determine the factors which appear have the greatest influence on league position.\n",
    "\n",
    "Data were taken from Melksham's website since they appear to have stayed in this league each year. <br>Data access: https://www.melkshamrfc.co.uk/teams/22086/league-table?season=67487"
   ]
  },
  {
   "cell_type": "markdown",
   "metadata": {},
   "source": [
    "\n"
   ]
  },
  {
   "cell_type": "code",
   "execution_count": 29,
   "metadata": {},
   "outputs": [],
   "source": [
    "# Plots displayed in the notebook and also stored in the notebook document.\n",
    "%matplotlib inline"
   ]
  },
  {
   "cell_type": "code",
   "execution_count": 30,
   "metadata": {},
   "outputs": [],
   "source": [
    "from pandas import *\n",
    "from matplotlib import pyplot as plt\n",
    "import numpy as np"
   ]
  },
  {
   "cell_type": "markdown",
   "metadata": {},
   "source": [
    "\n"
   ]
  },
  {
   "cell_type": "markdown",
   "metadata": {},
   "source": [
    "## Load in and Clean Data"
   ]
  },
  {
   "cell_type": "markdown",
   "metadata": {},
   "source": [
    "First load in the collated league data:"
   ]
  },
  {
   "cell_type": "code",
   "execution_count": 31,
   "metadata": {},
   "outputs": [],
   "source": [
    "league = read_excel('League Results.xlsx')"
   ]
  },
  {
   "cell_type": "markdown",
   "metadata": {},
   "source": [
    "Have a look at the first few rows:"
   ]
  },
  {
   "cell_type": "code",
   "execution_count": 32,
   "metadata": {},
   "outputs": [
    {
     "data": {
      "text/html": [
       "<div>\n",
       "<style scoped>\n",
       "    .dataframe tbody tr th:only-of-type {\n",
       "        vertical-align: middle;\n",
       "    }\n",
       "\n",
       "    .dataframe tbody tr th {\n",
       "        vertical-align: top;\n",
       "    }\n",
       "\n",
       "    .dataframe thead th {\n",
       "        text-align: right;\n",
       "    }\n",
       "</style>\n",
       "<table border=\"1\" class=\"dataframe\">\n",
       "  <thead>\n",
       "    <tr style=\"text-align: right;\">\n",
       "      <th></th>\n",
       "      <th>Pos</th>\n",
       "      <th>Team</th>\n",
       "      <th>Season</th>\n",
       "      <th>Pl</th>\n",
       "      <th>HW</th>\n",
       "      <th>HD</th>\n",
       "      <th>HL</th>\n",
       "      <th>AW</th>\n",
       "      <th>AD</th>\n",
       "      <th>AL</th>\n",
       "      <th>...</th>\n",
       "      <th>HF</th>\n",
       "      <th>AF</th>\n",
       "      <th>F</th>\n",
       "      <th>A</th>\n",
       "      <th>Diff</th>\n",
       "      <th>TB</th>\n",
       "      <th>LB</th>\n",
       "      <th>Adj</th>\n",
       "      <th>Rand</th>\n",
       "      <th>Pts</th>\n",
       "    </tr>\n",
       "  </thead>\n",
       "  <tbody>\n",
       "    <tr>\n",
       "      <th>0</th>\n",
       "      <td>1</td>\n",
       "      <td>Westbury</td>\n",
       "      <td>19/20</td>\n",
       "      <td>15</td>\n",
       "      <td>5</td>\n",
       "      <td>0</td>\n",
       "      <td>0</td>\n",
       "      <td>9</td>\n",
       "      <td>0</td>\n",
       "      <td>1</td>\n",
       "      <td>...</td>\n",
       "      <td>171</td>\n",
       "      <td>343</td>\n",
       "      <td>514</td>\n",
       "      <td>174</td>\n",
       "      <td>340</td>\n",
       "      <td>0.0</td>\n",
       "      <td>0.0</td>\n",
       "      <td>0.0</td>\n",
       "      <td>NaN</td>\n",
       "      <td>56</td>\n",
       "    </tr>\n",
       "    <tr>\n",
       "      <th>1</th>\n",
       "      <td>2</td>\n",
       "      <td>Swindon II</td>\n",
       "      <td>19/20</td>\n",
       "      <td>18</td>\n",
       "      <td>8</td>\n",
       "      <td>0</td>\n",
       "      <td>1</td>\n",
       "      <td>4</td>\n",
       "      <td>0</td>\n",
       "      <td>5</td>\n",
       "      <td>...</td>\n",
       "      <td>283</td>\n",
       "      <td>157</td>\n",
       "      <td>440</td>\n",
       "      <td>247</td>\n",
       "      <td>193</td>\n",
       "      <td>0.0</td>\n",
       "      <td>0.0</td>\n",
       "      <td>0.0</td>\n",
       "      <td>NaN</td>\n",
       "      <td>50</td>\n",
       "    </tr>\n",
       "    <tr>\n",
       "      <th>2</th>\n",
       "      <td>3</td>\n",
       "      <td>Corsham II</td>\n",
       "      <td>19/20</td>\n",
       "      <td>17</td>\n",
       "      <td>7</td>\n",
       "      <td>0</td>\n",
       "      <td>2</td>\n",
       "      <td>5</td>\n",
       "      <td>0</td>\n",
       "      <td>3</td>\n",
       "      <td>...</td>\n",
       "      <td>341</td>\n",
       "      <td>301</td>\n",
       "      <td>642</td>\n",
       "      <td>302</td>\n",
       "      <td>340</td>\n",
       "      <td>0.0</td>\n",
       "      <td>0.0</td>\n",
       "      <td>0.0</td>\n",
       "      <td>NaN</td>\n",
       "      <td>48</td>\n",
       "    </tr>\n",
       "    <tr>\n",
       "      <th>3</th>\n",
       "      <td>4</td>\n",
       "      <td>Devizes II</td>\n",
       "      <td>19/20</td>\n",
       "      <td>17</td>\n",
       "      <td>7</td>\n",
       "      <td>0</td>\n",
       "      <td>2</td>\n",
       "      <td>3</td>\n",
       "      <td>1</td>\n",
       "      <td>4</td>\n",
       "      <td>...</td>\n",
       "      <td>339</td>\n",
       "      <td>181</td>\n",
       "      <td>520</td>\n",
       "      <td>295</td>\n",
       "      <td>225</td>\n",
       "      <td>0.0</td>\n",
       "      <td>0.0</td>\n",
       "      <td>0.0</td>\n",
       "      <td>NaN</td>\n",
       "      <td>43</td>\n",
       "    </tr>\n",
       "    <tr>\n",
       "      <th>4</th>\n",
       "      <td>5</td>\n",
       "      <td>Pewsey Vale</td>\n",
       "      <td>19/20</td>\n",
       "      <td>17</td>\n",
       "      <td>8</td>\n",
       "      <td>0</td>\n",
       "      <td>1</td>\n",
       "      <td>1</td>\n",
       "      <td>0</td>\n",
       "      <td>7</td>\n",
       "      <td>...</td>\n",
       "      <td>359</td>\n",
       "      <td>127</td>\n",
       "      <td>486</td>\n",
       "      <td>288</td>\n",
       "      <td>198</td>\n",
       "      <td>0.0</td>\n",
       "      <td>0.0</td>\n",
       "      <td>0.0</td>\n",
       "      <td>NaN</td>\n",
       "      <td>36</td>\n",
       "    </tr>\n",
       "  </tbody>\n",
       "</table>\n",
       "<p>5 rows × 23 columns</p>\n",
       "</div>"
      ],
      "text/plain": [
       "   Pos         Team Season  Pl  HW  HD  HL  AW  AD  AL  ...   HF   AF    F  \\\n",
       "0    1     Westbury  19/20  15   5   0   0   9   0   1  ...  171  343  514   \n",
       "1    2   Swindon II  19/20  18   8   0   1   4   0   5  ...  283  157  440   \n",
       "2    3   Corsham II  19/20  17   7   0   2   5   0   3  ...  341  301  642   \n",
       "3    4   Devizes II  19/20  17   7   0   2   3   1   4  ...  339  181  520   \n",
       "4    5  Pewsey Vale  19/20  17   8   0   1   1   0   7  ...  359  127  486   \n",
       "\n",
       "     A  Diff   TB   LB  Adj  Rand  Pts  \n",
       "0  174   340  0.0  0.0  0.0   NaN   56  \n",
       "1  247   193  0.0  0.0  0.0   NaN   50  \n",
       "2  302   340  0.0  0.0  0.0   NaN   48  \n",
       "3  295   225  0.0  0.0  0.0   NaN   43  \n",
       "4  288   198  0.0  0.0  0.0   NaN   36  \n",
       "\n",
       "[5 rows x 23 columns]"
      ]
     },
     "execution_count": 32,
     "metadata": {},
     "output_type": "execute_result"
    }
   ],
   "source": [
    "league.head()"
   ]
  },
  {
   "cell_type": "markdown",
   "metadata": {},
   "source": [
    "There are a few columns we do not need and so first we will drop them and inspect the first few rows of our new data frame. Since I put this dataset together myself, I also know that there are no missing values and so no further cleaning is necessary."
   ]
  },
  {
   "cell_type": "code",
   "execution_count": 33,
   "metadata": {},
   "outputs": [
    {
     "data": {
      "text/html": [
       "<div>\n",
       "<style scoped>\n",
       "    .dataframe tbody tr th:only-of-type {\n",
       "        vertical-align: middle;\n",
       "    }\n",
       "\n",
       "    .dataframe tbody tr th {\n",
       "        vertical-align: top;\n",
       "    }\n",
       "\n",
       "    .dataframe thead th {\n",
       "        text-align: right;\n",
       "    }\n",
       "</style>\n",
       "<table border=\"1\" class=\"dataframe\">\n",
       "  <thead>\n",
       "    <tr style=\"text-align: right;\">\n",
       "      <th></th>\n",
       "      <th>Pos</th>\n",
       "      <th>Team</th>\n",
       "      <th>Season</th>\n",
       "      <th>Pl</th>\n",
       "      <th>HW</th>\n",
       "      <th>HD</th>\n",
       "      <th>HL</th>\n",
       "      <th>AW</th>\n",
       "      <th>AD</th>\n",
       "      <th>AL</th>\n",
       "      <th>W</th>\n",
       "      <th>D</th>\n",
       "      <th>L</th>\n",
       "      <th>HF</th>\n",
       "      <th>AF</th>\n",
       "      <th>F</th>\n",
       "      <th>A</th>\n",
       "      <th>Diff</th>\n",
       "      <th>Pts</th>\n",
       "    </tr>\n",
       "  </thead>\n",
       "  <tbody>\n",
       "    <tr>\n",
       "      <th>0</th>\n",
       "      <td>1</td>\n",
       "      <td>Westbury</td>\n",
       "      <td>19/20</td>\n",
       "      <td>15</td>\n",
       "      <td>5</td>\n",
       "      <td>0</td>\n",
       "      <td>0</td>\n",
       "      <td>9</td>\n",
       "      <td>0</td>\n",
       "      <td>1</td>\n",
       "      <td>14</td>\n",
       "      <td>0</td>\n",
       "      <td>1</td>\n",
       "      <td>171</td>\n",
       "      <td>343</td>\n",
       "      <td>514</td>\n",
       "      <td>174</td>\n",
       "      <td>340</td>\n",
       "      <td>56</td>\n",
       "    </tr>\n",
       "    <tr>\n",
       "      <th>1</th>\n",
       "      <td>2</td>\n",
       "      <td>Swindon II</td>\n",
       "      <td>19/20</td>\n",
       "      <td>18</td>\n",
       "      <td>8</td>\n",
       "      <td>0</td>\n",
       "      <td>1</td>\n",
       "      <td>4</td>\n",
       "      <td>0</td>\n",
       "      <td>5</td>\n",
       "      <td>12</td>\n",
       "      <td>0</td>\n",
       "      <td>6</td>\n",
       "      <td>283</td>\n",
       "      <td>157</td>\n",
       "      <td>440</td>\n",
       "      <td>247</td>\n",
       "      <td>193</td>\n",
       "      <td>50</td>\n",
       "    </tr>\n",
       "    <tr>\n",
       "      <th>2</th>\n",
       "      <td>3</td>\n",
       "      <td>Corsham II</td>\n",
       "      <td>19/20</td>\n",
       "      <td>17</td>\n",
       "      <td>7</td>\n",
       "      <td>0</td>\n",
       "      <td>2</td>\n",
       "      <td>5</td>\n",
       "      <td>0</td>\n",
       "      <td>3</td>\n",
       "      <td>12</td>\n",
       "      <td>0</td>\n",
       "      <td>5</td>\n",
       "      <td>341</td>\n",
       "      <td>301</td>\n",
       "      <td>642</td>\n",
       "      <td>302</td>\n",
       "      <td>340</td>\n",
       "      <td>48</td>\n",
       "    </tr>\n",
       "    <tr>\n",
       "      <th>3</th>\n",
       "      <td>4</td>\n",
       "      <td>Devizes II</td>\n",
       "      <td>19/20</td>\n",
       "      <td>17</td>\n",
       "      <td>7</td>\n",
       "      <td>0</td>\n",
       "      <td>2</td>\n",
       "      <td>3</td>\n",
       "      <td>1</td>\n",
       "      <td>4</td>\n",
       "      <td>10</td>\n",
       "      <td>1</td>\n",
       "      <td>6</td>\n",
       "      <td>339</td>\n",
       "      <td>181</td>\n",
       "      <td>520</td>\n",
       "      <td>295</td>\n",
       "      <td>225</td>\n",
       "      <td>43</td>\n",
       "    </tr>\n",
       "    <tr>\n",
       "      <th>4</th>\n",
       "      <td>5</td>\n",
       "      <td>Pewsey Vale</td>\n",
       "      <td>19/20</td>\n",
       "      <td>17</td>\n",
       "      <td>8</td>\n",
       "      <td>0</td>\n",
       "      <td>1</td>\n",
       "      <td>1</td>\n",
       "      <td>0</td>\n",
       "      <td>7</td>\n",
       "      <td>9</td>\n",
       "      <td>0</td>\n",
       "      <td>8</td>\n",
       "      <td>359</td>\n",
       "      <td>127</td>\n",
       "      <td>486</td>\n",
       "      <td>288</td>\n",
       "      <td>198</td>\n",
       "      <td>36</td>\n",
       "    </tr>\n",
       "  </tbody>\n",
       "</table>\n",
       "</div>"
      ],
      "text/plain": [
       "   Pos         Team Season  Pl  HW  HD  HL  AW  AD  AL   W  D  L   HF   AF  \\\n",
       "0    1     Westbury  19/20  15   5   0   0   9   0   1  14  0  1  171  343   \n",
       "1    2   Swindon II  19/20  18   8   0   1   4   0   5  12  0  6  283  157   \n",
       "2    3   Corsham II  19/20  17   7   0   2   5   0   3  12  0  5  341  301   \n",
       "3    4   Devizes II  19/20  17   7   0   2   3   1   4  10  1  6  339  181   \n",
       "4    5  Pewsey Vale  19/20  17   8   0   1   1   0   7   9  0  8  359  127   \n",
       "\n",
       "     F    A  Diff  Pts  \n",
       "0  514  174   340   56  \n",
       "1  440  247   193   50  \n",
       "2  642  302   340   48  \n",
       "3  520  295   225   43  \n",
       "4  486  288   198   36  "
      ]
     },
     "execution_count": 33,
     "metadata": {},
     "output_type": "execute_result"
    }
   ],
   "source": [
    "league.drop(columns = ['TB', 'LB', 'Adj', 'Rand']).head()"
   ]
  },
  {
   "cell_type": "markdown",
   "metadata": {},
   "source": [
    "\n"
   ]
  },
  {
   "cell_type": "markdown",
   "metadata": {},
   "source": [
    "## Calculate Relative Variables\n",
    "\n",
    "Even from these first few rows we can see that the teams have not all played an equal amount of matches. Therefore, it may be a good idea to calculate variables per game. This way we can make fair, direct comparisons and even scale up to a full 22 matches if deemed necessary or of interest.\n",
    "\n",
    "First, calculate the variables of interest per game (i.e. divide variable by no. of matches played):"
   ]
  },
  {
   "cell_type": "code",
   "execution_count": 34,
   "metadata": {},
   "outputs": [],
   "source": [
    "league['Rel F']    = league['F']    / league['Pl']\n",
    "league['Rel A']    = league['A']    / league['Pl']\n",
    "league['Rel Diff'] = league['Diff'] / league['Pl']\n",
    "league['Rel Pts']  = league['Pts']  / league['Pl']"
   ]
  },
  {
   "cell_type": "markdown",
   "metadata": {},
   "source": [
    "Check new columns by inspection:"
   ]
  },
  {
   "cell_type": "code",
   "execution_count": 35,
   "metadata": {},
   "outputs": [
    {
     "data": {
      "text/html": [
       "<div>\n",
       "<style scoped>\n",
       "    .dataframe tbody tr th:only-of-type {\n",
       "        vertical-align: middle;\n",
       "    }\n",
       "\n",
       "    .dataframe tbody tr th {\n",
       "        vertical-align: top;\n",
       "    }\n",
       "\n",
       "    .dataframe thead th {\n",
       "        text-align: right;\n",
       "    }\n",
       "</style>\n",
       "<table border=\"1\" class=\"dataframe\">\n",
       "  <thead>\n",
       "    <tr style=\"text-align: right;\">\n",
       "      <th></th>\n",
       "      <th>Pos</th>\n",
       "      <th>Team</th>\n",
       "      <th>Season</th>\n",
       "      <th>Pl</th>\n",
       "      <th>HW</th>\n",
       "      <th>HD</th>\n",
       "      <th>HL</th>\n",
       "      <th>AW</th>\n",
       "      <th>AD</th>\n",
       "      <th>AL</th>\n",
       "      <th>...</th>\n",
       "      <th>Diff</th>\n",
       "      <th>TB</th>\n",
       "      <th>LB</th>\n",
       "      <th>Adj</th>\n",
       "      <th>Rand</th>\n",
       "      <th>Pts</th>\n",
       "      <th>Rel F</th>\n",
       "      <th>Rel A</th>\n",
       "      <th>Rel Diff</th>\n",
       "      <th>Rel Pts</th>\n",
       "    </tr>\n",
       "  </thead>\n",
       "  <tbody>\n",
       "    <tr>\n",
       "      <th>0</th>\n",
       "      <td>1</td>\n",
       "      <td>Westbury</td>\n",
       "      <td>19/20</td>\n",
       "      <td>15</td>\n",
       "      <td>5</td>\n",
       "      <td>0</td>\n",
       "      <td>0</td>\n",
       "      <td>9</td>\n",
       "      <td>0</td>\n",
       "      <td>1</td>\n",
       "      <td>...</td>\n",
       "      <td>340</td>\n",
       "      <td>0.0</td>\n",
       "      <td>0.0</td>\n",
       "      <td>0.0</td>\n",
       "      <td>NaN</td>\n",
       "      <td>56</td>\n",
       "      <td>34.266667</td>\n",
       "      <td>11.600000</td>\n",
       "      <td>22.666667</td>\n",
       "      <td>3.733333</td>\n",
       "    </tr>\n",
       "    <tr>\n",
       "      <th>1</th>\n",
       "      <td>2</td>\n",
       "      <td>Swindon II</td>\n",
       "      <td>19/20</td>\n",
       "      <td>18</td>\n",
       "      <td>8</td>\n",
       "      <td>0</td>\n",
       "      <td>1</td>\n",
       "      <td>4</td>\n",
       "      <td>0</td>\n",
       "      <td>5</td>\n",
       "      <td>...</td>\n",
       "      <td>193</td>\n",
       "      <td>0.0</td>\n",
       "      <td>0.0</td>\n",
       "      <td>0.0</td>\n",
       "      <td>NaN</td>\n",
       "      <td>50</td>\n",
       "      <td>24.444444</td>\n",
       "      <td>13.722222</td>\n",
       "      <td>10.722222</td>\n",
       "      <td>2.777778</td>\n",
       "    </tr>\n",
       "    <tr>\n",
       "      <th>2</th>\n",
       "      <td>3</td>\n",
       "      <td>Corsham II</td>\n",
       "      <td>19/20</td>\n",
       "      <td>17</td>\n",
       "      <td>7</td>\n",
       "      <td>0</td>\n",
       "      <td>2</td>\n",
       "      <td>5</td>\n",
       "      <td>0</td>\n",
       "      <td>3</td>\n",
       "      <td>...</td>\n",
       "      <td>340</td>\n",
       "      <td>0.0</td>\n",
       "      <td>0.0</td>\n",
       "      <td>0.0</td>\n",
       "      <td>NaN</td>\n",
       "      <td>48</td>\n",
       "      <td>37.764706</td>\n",
       "      <td>17.764706</td>\n",
       "      <td>20.000000</td>\n",
       "      <td>2.823529</td>\n",
       "    </tr>\n",
       "    <tr>\n",
       "      <th>3</th>\n",
       "      <td>4</td>\n",
       "      <td>Devizes II</td>\n",
       "      <td>19/20</td>\n",
       "      <td>17</td>\n",
       "      <td>7</td>\n",
       "      <td>0</td>\n",
       "      <td>2</td>\n",
       "      <td>3</td>\n",
       "      <td>1</td>\n",
       "      <td>4</td>\n",
       "      <td>...</td>\n",
       "      <td>225</td>\n",
       "      <td>0.0</td>\n",
       "      <td>0.0</td>\n",
       "      <td>0.0</td>\n",
       "      <td>NaN</td>\n",
       "      <td>43</td>\n",
       "      <td>30.588235</td>\n",
       "      <td>17.352941</td>\n",
       "      <td>13.235294</td>\n",
       "      <td>2.529412</td>\n",
       "    </tr>\n",
       "    <tr>\n",
       "      <th>4</th>\n",
       "      <td>5</td>\n",
       "      <td>Pewsey Vale</td>\n",
       "      <td>19/20</td>\n",
       "      <td>17</td>\n",
       "      <td>8</td>\n",
       "      <td>0</td>\n",
       "      <td>1</td>\n",
       "      <td>1</td>\n",
       "      <td>0</td>\n",
       "      <td>7</td>\n",
       "      <td>...</td>\n",
       "      <td>198</td>\n",
       "      <td>0.0</td>\n",
       "      <td>0.0</td>\n",
       "      <td>0.0</td>\n",
       "      <td>NaN</td>\n",
       "      <td>36</td>\n",
       "      <td>28.588235</td>\n",
       "      <td>16.941176</td>\n",
       "      <td>11.647059</td>\n",
       "      <td>2.117647</td>\n",
       "    </tr>\n",
       "  </tbody>\n",
       "</table>\n",
       "<p>5 rows × 27 columns</p>\n",
       "</div>"
      ],
      "text/plain": [
       "   Pos         Team Season  Pl  HW  HD  HL  AW  AD  AL  ...  Diff   TB   LB  \\\n",
       "0    1     Westbury  19/20  15   5   0   0   9   0   1  ...   340  0.0  0.0   \n",
       "1    2   Swindon II  19/20  18   8   0   1   4   0   5  ...   193  0.0  0.0   \n",
       "2    3   Corsham II  19/20  17   7   0   2   5   0   3  ...   340  0.0  0.0   \n",
       "3    4   Devizes II  19/20  17   7   0   2   3   1   4  ...   225  0.0  0.0   \n",
       "4    5  Pewsey Vale  19/20  17   8   0   1   1   0   7  ...   198  0.0  0.0   \n",
       "\n",
       "   Adj  Rand  Pts      Rel F      Rel A   Rel Diff   Rel Pts  \n",
       "0  0.0   NaN   56  34.266667  11.600000  22.666667  3.733333  \n",
       "1  0.0   NaN   50  24.444444  13.722222  10.722222  2.777778  \n",
       "2  0.0   NaN   48  37.764706  17.764706  20.000000  2.823529  \n",
       "3  0.0   NaN   43  30.588235  17.352941  13.235294  2.529412  \n",
       "4  0.0   NaN   36  28.588235  16.941176  11.647059  2.117647  \n",
       "\n",
       "[5 rows x 27 columns]"
      ]
     },
     "execution_count": 35,
     "metadata": {},
     "output_type": "execute_result"
    }
   ],
   "source": [
    "league.head()"
   ]
  },
  {
   "cell_type": "markdown",
   "metadata": {},
   "source": [
    "\n"
   ]
  },
  {
   "cell_type": "markdown",
   "metadata": {},
   "source": [
    "## Perform Linear Regression Analyses to Model the Relationship Between Variables of Interest\n",
    "\n",
    "In this section we will do as the title suggests and perfrom simple linear regression analyses. This will help us to identify which variables are most important to finish higher in the league table."
   ]
  },
  {
   "cell_type": "markdown",
   "metadata": {},
   "source": [
    "First import the Statsmodel module to perform the analyses:"
   ]
  },
  {
   "cell_type": "code",
   "execution_count": 36,
   "metadata": {},
   "outputs": [],
   "source": [
    "import statsmodels.api as sm"
   ]
  },
  {
   "cell_type": "markdown",
   "metadata": {},
   "source": [
    "\n"
   ]
  },
  {
   "cell_type": "markdown",
   "metadata": {},
   "source": [
    "### Simple Linear Regression"
   ]
  },
  {
   "cell_type": "markdown",
   "metadata": {},
   "source": [
    "The first linear regression will look at the influence of each teams' average points difference per match against their finishing position in the league.\n",
    "\n",
    "Let's start by plotting these variables against each other."
   ]
  },
  {
   "cell_type": "code",
   "execution_count": 37,
   "metadata": {},
   "outputs": [
    {
     "data": {
      "text/plain": [
       "Text(0, 0.5, 'Final League Position')"
      ]
     },
     "execution_count": 37,
     "metadata": {},
     "output_type": "execute_result"
    },
    {
     "data": {
      "image/png": "[encoded data removed]",
      "text/plain": [
       "<Figure size 432x288 with 1 Axes>"
      ]
     },
     "metadata": {
      "needs_background": "light"
     },
     "output_type": "display_data"
    }
   ],
   "source": [
    "plt.plot(league['Rel Diff'], league['Pos'], 'rx') # A look at how average points difference per match influences final league position\n",
    "plt.gca().invert_yaxis()\n",
    "plt.yticks(np.arange(min(league['Pos']), max(league['Pos'])+1, 1.0))\n",
    "plt.xlabel(\"Average Points Difference Per Match\", fontweight='bold')\n",
    "plt.ylabel(\"Final League Position\", fontweight='bold')"
   ]
  },
  {
   "cell_type": "markdown",
   "metadata": {},
   "source": [
    "As we can see, there appears to be a linear relationship of some degree where a greater average points difference per match leads to finishing higher up the table.\n",
    "\n",
    "Now run the linear regression between these variables.\n",
    "\n",
    "A simple linear regression like this one will have the structure:\n",
    "\n",
    "**$Y = C + M*X$**\n",
    "\n",
    "Where:\n",
    "\n",
    "- $Y$ = Dependent variable (output/outcome/prediction/estimation)\n",
    "- $C$ = Constant (Y-Intercept)\n",
    "- $M$ = Slope of the regression line (the effect that X has on Y)\n",
    "- $X$ = Independent variable (input variable used in the prediction of Y)"
   ]
  },
  {
   "cell_type": "markdown",
   "metadata": {},
   "source": [
    "\n"
   ]
  },
  {
   "cell_type": "code",
   "execution_count": 38,
   "metadata": {},
   "outputs": [
    {
     "name": "stdout",
     "output_type": "stream",
     "text": [
      "                            OLS Regression Results                            \n",
      "==============================================================================\n",
      "Dep. Variable:                    Pos   R-squared:                       0.815\n",
      "Model:                            OLS   Adj. R-squared:                  0.812\n",
      "Method:                 Least Squares   F-statistic:                     256.2\n",
      "Date:                Fri, 07 Aug 2020   Prob (F-statistic):           6.03e-23\n",
      "Time:                        15:09:23   Log-Likelihood:                -108.78\n",
      "No. Observations:                  60   AIC:                             221.6\n",
      "Df Residuals:                      58   BIC:                             225.8\n",
      "Df Model:                           1                                         \n",
      "Covariance Type:            nonrobust                                         \n",
      "==============================================================================\n",
      "                 coef    std err          t      P>|t|      [0.025      0.975]\n",
      "------------------------------------------------------------------------------\n",
      "const          6.4385      0.195     33.056      0.000       6.049       6.828\n",
      "Rel Diff      -0.1699      0.011    -16.007      0.000      -0.191      -0.149\n",
      "==============================================================================\n",
      "Omnibus:                        0.475   Durbin-Watson:                   1.447\n",
      "Prob(Omnibus):                  0.789   Jarque-Bera (JB):                0.303\n",
      "Skew:                           0.174   Prob(JB):                        0.859\n",
      "Kurtosis:                       2.970   Cond. No.                         18.4\n",
      "==============================================================================\n",
      "\n",
      "Warnings:\n",
      "[1] Standard Errors assume that the covariance matrix of the errors is correctly specified.\n"
     ]
    }
   ],
   "source": [
    "X = league['Rel Diff'] # Model input variable\n",
    "Y = league['Pos'] # Model output variable\n",
    "\n",
    "X = sm.add_constant(X) # adding a constant\n",
    "\n",
    "model = sm.OLS(Y, X).fit() # Fit using ordinary least squares\n",
    "predictions = model.predict(X) \n",
    "\n",
    "model_summary = model.summary()\n",
    "print(model_summary)"
   ]
  },
  {
   "cell_type": "markdown",
   "metadata": {},
   "source": [
    "\n",
    "\n"
   ]
  },
  {
   "cell_type": "markdown",
   "metadata": {},
   "source": [
    "This gives the linear equation:\n",
    "\n",
    "$Y = 6.4385 + (-0.1699 * X)$\n",
    "\n",
    "Where:\n",
    "\n",
    "- $Y$ = League Position\n",
    "- $X$ = Points Difference"
   ]
  },
  {
   "cell_type": "markdown",
   "metadata": {},
   "source": [
    "\n"
   ]
  },
  {
   "cell_type": "markdown",
   "metadata": {},
   "source": [
    "Let's visualise this in a graph:"
   ]
  },
  {
   "cell_type": "code",
   "execution_count": 39,
   "metadata": {},
   "outputs": [
    {
     "data": {
      "text/plain": [
       "Text(-40, 3, '$R^2$ = 0.815')"
      ]
     },
     "execution_count": 39,
     "metadata": {},
     "output_type": "execute_result"
    },
    {
     "data": {
      "image/png": "[encoded data removed]",
      "text/plain": [
       "<Figure size 432x360 with 1 Axes>"
      ]
     },
     "metadata": {
      "needs_background": "light"
     },
     "output_type": "display_data"
    }
   ],
   "source": [
    "fig = sm.graphics.abline_plot(model_results=model) # Plot regression line\n",
    "fig.set_size_inches(6, 5)\n",
    "ax = fig.axes[0]\n",
    "ax.scatter(league['Rel Diff'], league['Pos'], c='r', marker='x') # Scatter plot\n",
    "ax.invert_yaxis()\n",
    "plt.xlabel(\"Average Points Difference Per Match\", fontweight='bold')\n",
    "plt.ylabel(\"Final League Position\", fontweight='bold')\n",
    "plt.xlim(-50, 40)    \n",
    "plt.ylim(13, 0)\n",
    "plt.yticks(np.arange(min(league['Pos']), max(league['Pos'])+1, 1.0))\n",
    "plt.text(-40,3, '$R^2$ = {:.3f}'.format(model.rsquared), fontsize=12) # Add R-squared to graph with 3 decimal places"
   ]
  },
  {
   "cell_type": "markdown",
   "metadata": {},
   "source": [
    "Based on the results the linear regression equation appears to fit the data well. It can be said that the model explains $81.5$% of the variation in the dependent variable (final league position), which is interpreted from the R-squared value ($R^2 = 0.815$). The independent variable (average points difference per match) is also a significant ($p < 0.001$) predictor of final league position in this model."
   ]
  },
  {
   "cell_type": "markdown",
   "metadata": {},
   "source": [
    "\n"
   ]
  },
  {
   "cell_type": "markdown",
   "metadata": {},
   "source": [
    "### Multiple Linear Regression"
   ]
  },
  {
   "cell_type": "markdown",
   "metadata": {},
   "source": [
    "Now let's run run a multiple linear regression and look at the influence of average points scored and average points conceded per match against final league position.\n",
    "\n",
    "A multiple linear regression like this one will have the structure:\n",
    "\n",
    "**$Y = C + B_1*X_1 + B_2*X_2$**\n",
    "\n",
    "Where:\n",
    "\n",
    "- $Y$ = Dependent variable (output/outcome/prediction/estimation)\n",
    "- $C$ = Constant (Y-Intercept)\n",
    "- $B_n$ = Independent variable coefficients (the effect that X has on Y)\n",
    "- $X_n$ = Independent variables (input variable used in the prediction of Y)"
   ]
  },
  {
   "cell_type": "markdown",
   "metadata": {},
   "source": [
    "\n"
   ]
  },
  {
   "cell_type": "code",
   "execution_count": 40,
   "metadata": {},
   "outputs": [
    {
     "name": "stdout",
     "output_type": "stream",
     "text": [
      "                            OLS Regression Results                            \n",
      "==============================================================================\n",
      "Dep. Variable:                    Pos   R-squared:                       0.822\n",
      "Model:                            OLS   Adj. R-squared:                  0.816\n",
      "Method:                 Least Squares   F-statistic:                     131.9\n",
      "Date:                Fri, 07 Aug 2020   Prob (F-statistic):           4.11e-22\n",
      "Time:                        15:09:24   Log-Likelihood:                -107.64\n",
      "No. Observations:                  60   AIC:                             221.3\n",
      "Df Residuals:                      57   BIC:                             227.6\n",
      "Df Model:                           2                                         \n",
      "Covariance Type:            nonrobust                                         \n",
      "==============================================================================\n",
      "                 coef    std err          t      P>|t|      [0.025      0.975]\n",
      "------------------------------------------------------------------------------\n",
      "const          4.4040      1.380      3.191      0.002       1.640       7.168\n",
      "Rel F         -0.1236      0.033     -3.768      0.000      -0.189      -0.058\n",
      "Rel A          0.2116      0.030      7.073      0.000       0.152       0.271\n",
      "==============================================================================\n",
      "Omnibus:                        3.580   Durbin-Watson:                   1.405\n",
      "Prob(Omnibus):                  0.167   Jarque-Bera (JB):                2.761\n",
      "Skew:                           0.504   Prob(JB):                        0.251\n",
      "Kurtosis:                       3.298   Cond. No.                         237.\n",
      "==============================================================================\n",
      "\n",
      "Warnings:\n",
      "[1] Standard Errors assume that the covariance matrix of the errors is correctly specified.\n"
     ]
    }
   ],
   "source": [
    "X2 = league[['Rel F', 'Rel A']] # Model input variable\n",
    "Y2 = league['Pos'] # Model output variable\n",
    "\n",
    "X2 = sm.add_constant(X2) # adding a constant\n",
    "\n",
    "model2 = sm.OLS(Y2, X2).fit() # Fit using ordinary least squares\n",
    "predictions = model2.predict(X2) \n",
    "\n",
    "model2_summary = model2.summary()\n",
    "print(model2_summary)"
   ]
  },
  {
   "cell_type": "markdown",
   "metadata": {},
   "source": [
    "\n"
   ]
  },
  {
   "cell_type": "markdown",
   "metadata": {},
   "source": [
    "This gives the linear equation:\n",
    "\n",
    "$Y = 4.4040 + (-0.1236 * X_1) + (0.2116 * X_2)$\n",
    "\n",
    "Where:\n",
    "\n",
    "- $Y$ = League Position\n",
    "- $X_1$ = Points Scored\n",
    "- $X_2$ = Points Conceded"
   ]
  },
  {
   "cell_type": "markdown",
   "metadata": {},
   "source": [
    "\n"
   ]
  },
  {
   "cell_type": "markdown",
   "metadata": {},
   "source": [
    "Again, let's visualise this. It's not as simple to plot a multiple regression so we will just plot two scatter plots - one for each of the independent variables. Unfortunately this does mean that we can't plot the regression equation on the figures."
   ]
  },
  {
   "cell_type": "code",
   "execution_count": 41,
   "metadata": {},
   "outputs": [
    {
     "data": {
      "text/plain": [
       "Text(0, 0.5, 'Final League Position')"
      ]
     },
     "execution_count": 41,
     "metadata": {},
     "output_type": "execute_result"
    },
    {
     "data": {
      "image/png": "[encoded data removed]",
      "text/plain": [
       "<Figure size 1080x432 with 2 Axes>"
      ]
     },
     "metadata": {
      "needs_background": "light"
     },
     "output_type": "display_data"
    }
   ],
   "source": [
    "fig = plt.figure()\n",
    "fig.set_size_inches(15, 6)\n",
    "\n",
    "plt.subplot(1, 2, 1)\n",
    "plt.plot(league['Rel F'], league['Pos'], 'rx')\n",
    "plt.gca().invert_yaxis()\n",
    "plt.yticks(np.arange(min(league['Pos']), max(league['Pos'])+1, 1.0))\n",
    "plt.xlabel(\"Average Points Scored Per Match\", fontweight='bold')\n",
    "plt.ylabel(\"Final League Position\", fontweight='bold')\n",
    "\n",
    "plt.subplot(1, 2, 2)\n",
    "plt.plot(league['Rel A'], league['Pos'], 'rx')\n",
    "plt.gca().invert_yaxis()\n",
    "plt.yticks(np.arange(min(league['Pos']), max(league['Pos'])+1, 1.0))\n",
    "plt.xlabel(\"Average Points Conceded Per Match\", fontweight='bold')\n",
    "plt.ylabel(\"Final League Position\", fontweight='bold')\n"
   ]
  },
  {
   "cell_type": "markdown",
   "metadata": {},
   "source": [
    "The results of this multiple linear regression indicate that splitting points difference into points scored and points conceded explains slightly more of the variation ($82.2$%; $R^2 = 0.822$) in the final league position than using points difference alone ($81.5$%; $R^2 = 0.815$). Both of the independent variables are also significant ($p < 0.001$) predictors of final league position, with the average number of points conceded per match having a greater influence than points scored. This can be observed from the coefficient values (Points scored coeff. = $-0.1236$; Points conceded coeff. =  $0.2116$) and also from the figures above - where, based on visual inspection, there appears to be a slightly stronger correlation between points conceded and final league position than points scored and final league position."
   ]
  },
  {
   "cell_type": "markdown",
   "metadata": {},
   "source": [
    "\n"
   ]
  },
  {
   "cell_type": "markdown",
   "metadata": {},
   "source": [
    "### Summary\n",
    "\n",
    "This brief piece of analysis looks at the table from one of my local leagues over the past few seasons. It demonstrates how a team's final position in the league can be modelled using linear regression and variables such as points scored and conceded per match, and also overall points difference per match. \n",
    "\n",
    "Obviously there are many points of interest that could be singled out for discussion. One I find interesting is how points conceded is weighted nearly twice as much as points scored (in the multiple linear regression), indicating that good defence would be more important than attack in achieveing a higher league position. Another that stood out to me was the constants given by the models. The simple linear regression using just points difference resulted in a constant of 6.4385. This suggests that if a single team achieved a points difference of zero in every match (i.e. draw every match) then they would finish 6th in the league (6.4385 rounded to the nearest integer). Whereas, using the multiple linear regression, and separating points difference into two separate independent variables of points scored and points conceded, resulted in a constant of 4.4040. This value suggests that if a team draws every match then they will finish 4th in the league. Though the latter would reqiure the team not to score or concede, i.e. a score of 0-0, and other factors such as bonus points are not considered.\n",
    "\n",
    "Whilst there are clearly more influenicing factors at play that have not been accounted for and collecting more seasons worth of data would improve the accuracy of the models, the aim of this work was simply to practise performing linear regression analyses in Python. $\\square$"
   ]
  }
 ],
 "metadata": {
  "kernelspec": {
   "display_name": "Python 3",
   "language": "python",
   "name": "python3"
  },
  "language_info": {
   "codemirror_mode": {
    "name": "ipython",
    "version": 3
   },
   "file_extension": ".py",
   "mimetype": "text/x-python",
   "name": "python",
   "nbconvert_exporter": "python",
   "pygments_lexer": "ipython3",
   "version": "3.7.7"
  }
 },
 "nbformat": 4,
 "nbformat_minor": 4
}
